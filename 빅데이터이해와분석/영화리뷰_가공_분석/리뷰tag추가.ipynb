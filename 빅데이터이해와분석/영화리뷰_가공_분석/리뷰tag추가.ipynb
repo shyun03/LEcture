{
 "cells": [
  {
   "cell_type": "markdown",
   "id": "7e6b9ba8",
   "metadata": {},
   "source": [
    "### 영화 리뷰에 따라 tag를 10개 정도 추출하는 모델 제작\n"
   ]
  },
  {
   "cell_type": "code",
   "execution_count": 10,
   "id": "62734c21",
   "metadata": {},
   "outputs": [
    {
     "name": "stdout",
     "output_type": "stream",
     "text": [
      "['가창력 연주자의', '연출 진지해요', '연출과 가창력', '연주자 독특하구요', '기반으로 연출', '여자 연출과', '피가로역 연주자', '연출 볼만합니다', '독특하구요 탄탄한', '볼만합니다 피가로역', '연주자의 소리', '진지해요 여자', '무대 연출', '연출과', '연주자의', '진지해요', '연출', '독특하구요', '연주자', '가창력', '너무 진지', '볼만합니다', '진지 무대', '피가로역', '소리 기반으로', '여자', '기반으로', '탄탄한', '진지', '소리']\n"
     ]
    }
   ],
   "source": [
    "#keybert 테스트\n",
    "from keybert import KeyBERT\n",
    "\n",
    "kw_model = KeyBERT()\n",
    "\n",
    "reviews = [\n",
    "    '너무 진지', \n",
    "    '무대 연출', \n",
    "    '진지해요 여자',\n",
    "    '연출과 가창력', \n",
    "    '연주자의 소리', \n",
    "    '기반으로 연출', \n",
    "    '볼만합니다', \n",
    "    '피가로역 연주자', \n",
    "    '독특하구요 탄탄한'\n",
    "    ]\n",
    "\n",
    "\n",
    "full_text = \" \".join(reviews)\n",
    "keywords = kw_model.extract_keywords(full_text, top_n=30, keyphrase_ngram_range=(1, 2))\n",
    "\n",
    "print([kw[0] for kw in keywords])\n"
   ]
  },
  {
   "cell_type": "code",
   "execution_count": 13,
   "id": "98fe4747",
   "metadata": {},
   "outputs": [],
   "source": [
    "keywords = kw_model.extract_keywords(full_text, top_n=7, keyphrase_ngram_range=(1, 1))\n"
   ]
  },
  {
   "cell_type": "code",
   "execution_count": 14,
   "id": "5e013895",
   "metadata": {},
   "outputs": [
    {
     "name": "stdout",
     "output_type": "stream",
     "text": [
      "['연출과', '연주자의', '진지해요', '연출', '독특하구요', '연주자', '가창력']\n"
     ]
    }
   ],
   "source": [
    "print([kw[0] for kw in keywords])"
   ]
  },
  {
   "cell_type": "code",
   "execution_count": 1,
   "id": "d4b24b79",
   "metadata": {},
   "outputs": [
    {
     "name": "stderr",
     "output_type": "stream",
     "text": [
      "f:\\term_pro\\venv\\Lib\\site-packages\\tqdm\\auto.py:21: TqdmWarning: IProgress not found. Please update jupyter and ipywidgets. See https://ipywidgets.readthedocs.io/en/stable/user_install.html\n",
      "  from .autonotebook import tqdm as notebook_tqdm\n"
     ]
    },
    {
     "name": "stdout",
     "output_type": "stream",
     "text": [
      "WARNING:tensorflow:From f:\\term_pro\\venv\\Lib\\site-packages\\tf_keras\\src\\losses.py:2976: The name tf.losses.sparse_softmax_cross_entropy is deprecated. Please use tf.compat.v1.losses.sparse_softmax_cross_entropy instead.\n",
      "\n",
      "🎉 최종 키워드 추출 완료 → megabox_final_keywords_tfidf.csv\n"
     ]
    }
   ],
   "source": [
    "import pandas as pd\n",
    "from keybert import KeyBERT\n",
    "from konlpy.tag import Okt\n",
    "from sklearn.feature_extraction.text import TfidfVectorizer\n",
    "\n",
    "# 데이터 로드\n",
    "df = pd.read_csv(\"1.megabox_reviews_merged_avg.csv\")\n",
    "review_cols = [\"리뷰1\", \"리뷰2\", \"리뷰3\", \"리뷰4\", \"리뷰5\"]\n",
    "df[\"전체리뷰\"] = df[review_cols].fillna(\"\").agg(\" \".join, axis=1)\n",
    "\n",
    "# 분석기 초기화\n",
    "kw_model = KeyBERT()\n",
    "okt = Okt()\n",
    "\n",
    "# 키워드 추출 함수\n",
    "def extract_clean_keywords(text):\n",
    "    try:\n",
    "        keywords = kw_model.extract_keywords(text, top_n=10, keyphrase_ngram_range=(1, 2))\n",
    "        phrases = [kw[0] for kw in keywords]\n",
    "\n",
    "        refined = []\n",
    "        for phrase in phrases:\n",
    "            tokens = okt.pos(phrase, stem=True)\n",
    "            for word, tag in tokens:\n",
    "                if tag in [\"Noun\", \"Adjective\", \"Verb\"] and len(word) > 1:\n",
    "                    refined.append(word)\n",
    "        return \" \".join(refined)\n",
    "    except:\n",
    "        return \"\"\n",
    "\n",
    "# 정제 키워드 문장 생성\n",
    "df[\"정제단어문장\"] = df[\"전체리뷰\"].apply(extract_clean_keywords)\n",
    "\n",
    "# TF-IDF 기반 키워드 추출\n",
    "vectorizer = TfidfVectorizer()\n",
    "tfidf_matrix = vectorizer.fit_transform(df[\"정제단어문장\"])\n",
    "feature_names = vectorizer.get_feature_names_out()\n",
    "\n",
    "def get_top_tfidf_keywords(row_idx, top_n=5):\n",
    "    row = tfidf_matrix[row_idx]\n",
    "    scores = row.toarray().flatten()\n",
    "    top_indices = scores.argsort()[-top_n:][::-1]\n",
    "    return \", \".join([feature_names[i] for i in top_indices])\n",
    "\n",
    "df[\"최종키워드\"] = [get_top_tfidf_keywords(i) for i in range(len(df))]\n",
    "\n",
    "# 저장\n",
    "df.to_csv(\"megabox_final_keywords_tfidf.csv\", index=False, encoding=\"utf-8-sig\")\n",
    "print(\"🎉 최종 키워드 추출 완료 → megabox_final_keywords_tfidf.csv\")\n"
   ]
  }
 ],
 "metadata": {
  "kernelspec": {
   "display_name": "venv",
   "language": "python",
   "name": "python3"
  },
  "language_info": {
   "codemirror_mode": {
    "name": "ipython",
    "version": 3
   },
   "file_extension": ".py",
   "mimetype": "text/x-python",
   "name": "python",
   "nbconvert_exporter": "python",
   "pygments_lexer": "ipython3",
   "version": "3.12.1"
  }
 },
 "nbformat": 4,
 "nbformat_minor": 5
}
